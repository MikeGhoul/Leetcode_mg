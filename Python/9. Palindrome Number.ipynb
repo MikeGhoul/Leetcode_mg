{
 "cells": [
  {
   "cell_type": "markdown",
   "id": "643ec8f6-d710-48e9-ae75-f294d0ff4150",
   "metadata": {},
   "source": [
    "# 9. Palindrome Number\n",
    "\n",
    "Given an integer x, return true if x is a \n",
    "palindrome\n",
    ", and false otherwise.\n",
    "\n",
    " \n",
    "\n",
    "Example 1:\n",
    "\n",
    "Input: x = 121\n",
    "Output: true\n",
    "Explanation: 121 reads as 121 from left to right and from right to left.\n",
    "Example 2:\n",
    "\n",
    "Input: x = -121\n",
    "Output: false\n",
    "Explanation: From left to right, it reads -121. From right to left, it becomes 121-. Therefore it is not a palindrome.\n",
    "Example 3:\n",
    "\n",
    "Input: x = 10\n",
    "Output: false\n",
    "Explanation: Reads 01 from right to left. Therefore it is not a palindrome."
   ]
  },
  {
   "cell_type": "code",
   "execution_count": 2,
   "id": "1199b771-32cc-4bb8-b3f2-555efb663e51",
   "metadata": {},
   "outputs": [],
   "source": [
    "def isPalindrome(x):\n",
    "    # Simple solution converting to string and reversing using slicing:\n",
    "    return str(x) == str(x)[::-1]"
   ]
  },
  {
   "cell_type": "code",
   "execution_count": 3,
   "id": "2a10e0a8-371c-4126-8505-58d3eea3fdba",
   "metadata": {},
   "outputs": [
    {
     "data": {
      "text/plain": [
       "True"
      ]
     },
     "execution_count": 3,
     "metadata": {},
     "output_type": "execute_result"
    }
   ],
   "source": [
    "# Test 1:\n",
    "\n",
    "x = 121\n",
    "isPalindrome(x)\n",
    "# Output: true\n",
    "# Explanation: 121 reads as 121 from left to right and from right to left."
   ]
  },
  {
   "cell_type": "code",
   "execution_count": 4,
   "id": "b988622c-7063-47fd-9bfa-cb3e6626cc23",
   "metadata": {},
   "outputs": [
    {
     "data": {
      "text/plain": [
       "False"
      ]
     },
     "execution_count": 4,
     "metadata": {},
     "output_type": "execute_result"
    }
   ],
   "source": [
    "# Test 2:\n",
    "\n",
    "x = -121\n",
    "isPalindrome(x)\n",
    "# Output: false\n",
    "# Explanation: From left to right, it reads -121. From right to left, it becomes 121-. Therefore it is not a palindrome."
   ]
  },
  {
   "cell_type": "code",
   "execution_count": 5,
   "id": "2d0f14a2-8b6a-4bfc-8366-8a8116fa29cb",
   "metadata": {},
   "outputs": [
    {
     "data": {
      "text/plain": [
       "False"
      ]
     },
     "execution_count": 5,
     "metadata": {},
     "output_type": "execute_result"
    }
   ],
   "source": [
    "# Test 3:\n",
    "\n",
    "x = 10\n",
    "isPalindrome(x)\n",
    "# Output: false\n",
    "# Explanation: Reads 01 from right to left. Therefore it is not a palindrome."
   ]
  },
  {
   "cell_type": "markdown",
   "id": "50099231-3987-4ac0-986b-99efb8015459",
   "metadata": {},
   "source": [
    "## More iterative approach:"
   ]
  },
  {
   "cell_type": "code",
   "execution_count": 6,
   "id": "4e299b4d-2a1e-4bb7-9d3e-120d6bab8436",
   "metadata": {},
   "outputs": [],
   "source": [
    "def isPalindrome_2(x):\n",
    "    # Check if x is negative, if it is then return False as it cannot be a palindrome:\n",
    "    if x < 0:\n",
    "        return False\n",
    "\n",
    "\n",
    "    # create a copy of x to reverse so you can compare to original x:\n",
    "    xcopy = x\n",
    "\n",
    "    # Initiate reverse int:\n",
    "    rev = 0\n",
    "\n",
    "    # While xcopy is > 0:\n",
    "    while xcopy > 0:\n",
    "        # Calc the remainder of xcopy divided by 10:\n",
    "        a = xcopy % 10\n",
    "        # Multiply int by 10 and add remainder \n",
    "        # (this way when we loop through the digits we don't overwrite within the same digit on each loop)\n",
    "        rev = (rev * 10) + a\n",
    "        # Perform floor division on xcopy to move down to the next digit:\n",
    "        xcopy //= 10 #same as xcopy = xcopy // 10\n",
    "\n",
    "    return rev == x"
   ]
  },
  {
   "cell_type": "code",
   "execution_count": 7,
   "id": "e46a33c2-a056-4b76-908e-e425e17160a9",
   "metadata": {},
   "outputs": [
    {
     "data": {
      "text/plain": [
       "True"
      ]
     },
     "execution_count": 7,
     "metadata": {},
     "output_type": "execute_result"
    }
   ],
   "source": [
    "# Test 1:\n",
    "\n",
    "x = 121\n",
    "isPalindrome_2(x)\n",
    "# Output: true\n",
    "# Explanation: 121 reads as 121 from left to right and from right to left."
   ]
  },
  {
   "cell_type": "code",
   "execution_count": 8,
   "id": "e8d4317c-a5fa-48f6-a6e9-8e82608c9b80",
   "metadata": {},
   "outputs": [
    {
     "data": {
      "text/plain": [
       "False"
      ]
     },
     "execution_count": 8,
     "metadata": {},
     "output_type": "execute_result"
    }
   ],
   "source": [
    "# Test 2:\n",
    "\n",
    "x = -121\n",
    "isPalindrome_2(x)\n",
    "# Output: false\n",
    "# Explanation: From left to right, it reads -121. From right to left, it becomes 121-. Therefore it is not a palindrome."
   ]
  },
  {
   "cell_type": "code",
   "execution_count": 9,
   "id": "e637f630-3c45-48e8-8f81-a83fcb2d82a3",
   "metadata": {},
   "outputs": [
    {
     "data": {
      "text/plain": [
       "False"
      ]
     },
     "execution_count": 9,
     "metadata": {},
     "output_type": "execute_result"
    }
   ],
   "source": [
    "# Test 3:\n",
    "\n",
    "x = 10\n",
    "isPalindrome_2(x)\n",
    "# Output: false\n",
    "# Explanation: Reads 01 from right to left. Therefore it is not a palindrome."
   ]
  },
  {
   "cell_type": "code",
   "execution_count": null,
   "id": "252ea2bc-6945-458f-8896-69ffd6f903bb",
   "metadata": {},
   "outputs": [],
   "source": []
  }
 ],
 "metadata": {
  "kernelspec": {
   "display_name": "Python 3 (ipykernel)",
   "language": "python",
   "name": "python3"
  },
  "language_info": {
   "codemirror_mode": {
    "name": "ipython",
    "version": 3
   },
   "file_extension": ".py",
   "mimetype": "text/x-python",
   "name": "python",
   "nbconvert_exporter": "python",
   "pygments_lexer": "ipython3",
   "version": "3.11.7"
  }
 },
 "nbformat": 4,
 "nbformat_minor": 5
}
