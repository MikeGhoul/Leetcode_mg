{
 "cells": [
  {
   "cell_type": "markdown",
   "id": "643ec8f6-d710-48e9-ae75-f294d0ff4150",
   "metadata": {},
   "source": [
    "# 13. Roman to Integer\n",
    "\n",
    "Roman numerals are represented by seven different symbols: I, V, X, L, C, D and M.\n",
    "\n",
    "Symbol       Value\n",
    "I             1\n",
    "V             5\n",
    "X             10\n",
    "L             50\n",
    "C             100\n",
    "D             500\n",
    "M             1000\n",
    "\n",
    "For example, 2 is written as II in Roman numeral, just two ones added together. 12 is written as XII, which is simply X + II. The number 27 is written as XXVII, which is XX + V + II.\n",
    "\n",
    "Roman numerals are usually written largest to smallest from left to right. However, the numeral for four is not IIII. Instead, the number four is written as IV. Because the one is before the five we subtract it making four. The same principle applies to the number nine, which is written as IX. There are six instances where subtraction is used:\n",
    "\n",
    "I can be placed before V (5) and X (10) to make 4 and 9. \n",
    "X can be placed before L (50) and C (100) to make 40 and 90. \n",
    "C can be placed before D (500) and M (1000) to make 400 and 900.\n",
    "Given a roman numeral, convert it to an integer.\n",
    "\n",
    " \n",
    "\n",
    "Example 1:\n",
    "\n",
    "Input: s = \"III\"\n",
    "Output: 3\n",
    "Explanation: III = 3.\n",
    "Example 2:\n",
    "\n",
    "Input: s = \"LVIII\"\n",
    "Output: 58\n",
    "Explanation: L = 50, V= 5, III = 3.\n",
    "Example 3:\n",
    "\n",
    "Input: s = \"MCMXCIV\"\n",
    "Output: 1994\n",
    "Explanation: M = 1000, CM = 900, XC = 90 and IV = 4.\n",
    " \n",
    "\n",
    "Constraints:\n",
    "\n",
    "1 <= s.length <= 15\n",
    "s contains only the characters ('I', 'V', 'X', 'L', 'C', 'D', 'M').\n",
    "It is guaranteed that s is a valid roman numeral in the range [1, 3999]."
   ]
  },
  {
   "cell_type": "code",
   "execution_count": 14,
   "id": "1199b771-32cc-4bb8-b3f2-555efb663e51",
   "metadata": {},
   "outputs": [],
   "source": [
    "def romanToInt(s):\n",
    "\n",
    "    value_output = 0\n",
    "    output_list = []\n",
    "    # Associate all possible individual values with the string and their associated value\n",
    "    calc_list = [['I', 1], ['V', 5], ['X', 10], ['L', 50], ['C', 100],\n",
    "                    ['D', 500], ['M', 1000], ['IV', 4], ['IX', 9], ['XL', 40],\n",
    "                    ['XC', 90], ['CD', 400], ['CM', 900]]\n",
    "        \n",
    "    # Create a lookup list of the edge cases listed in the problem\n",
    "    matches = ['IV', 'IX', 'XL', 'XC', 'CD', 'CM']\n",
    "      \n",
    "    # If one of the edge cases is in s, let's append it to the output list and remove it from the string\n",
    "    for x in matches:\n",
    "        if x in s:\n",
    "            output_list.append(x)\n",
    "            s = s.replace(x, '')\n",
    "        \n",
    "    # Loop through revised string once matches above have been checked\n",
    "    for i in s:\n",
    "        output_list.append(i)\n",
    "        \n",
    "    # Get counts of each item\n",
    "    output_counts = [[r, output_list.count(r)] for r in set(output_list)]\n",
    "\n",
    "    # Loop through counts and multiply instances by value calcs\n",
    "    for c in range(len(output_counts)):\n",
    "        for v in range(len(calc_list)):\n",
    "            if output_counts[c][0] == calc_list[v][0]:\n",
    "                value_output += output_counts[c][1] * calc_list[v][1]\n",
    "\n",
    "    print (output_list)\n",
    "    print (output_counts)\n",
    "    print (value_output)"
   ]
  },
  {
   "cell_type": "code",
   "execution_count": 15,
   "id": "2a10e0a8-371c-4126-8505-58d3eea3fdba",
   "metadata": {},
   "outputs": [
    {
     "name": "stdout",
     "output_type": "stream",
     "text": [
      "['IV', 'XC', 'CM', 'M']\n",
      "[['XC', 1], ['M', 1], ['CM', 1], ['IV', 1]]\n",
      "1994\n"
     ]
    }
   ],
   "source": [
    "# Test 1:\n",
    "\n",
    "s = \"MCMXCIV\"\n",
    "\n",
    "romanToInt(s)\n",
    "\n",
    "# Explanation: M = 1000, CM = 900, XC = 90 and IV = 4."
   ]
  },
  {
   "cell_type": "code",
   "execution_count": 16,
   "id": "b988622c-7063-47fd-9bfa-cb3e6626cc23",
   "metadata": {},
   "outputs": [
    {
     "name": "stdout",
     "output_type": "stream",
     "text": [
      "['L', 'V', 'I', 'I', 'I']\n",
      "[['L', 1], ['I', 3], ['V', 1]]\n",
      "58\n"
     ]
    }
   ],
   "source": [
    "# Test 2:\n",
    "\n",
    "s = \"LVIII\"\n",
    "\n",
    "romanToInt(s)\n",
    "\n",
    "# Explanation: L = 50, V= 5, III = 3."
   ]
  },
  {
   "cell_type": "code",
   "execution_count": 10,
   "id": "2d0f14a2-8b6a-4bfc-8366-8a8116fa29cb",
   "metadata": {},
   "outputs": [
    {
     "name": "stdout",
     "output_type": "stream",
     "text": [
      "['I', 'I', 'I']\n",
      "[['I', 3]]\n",
      "3\n"
     ]
    }
   ],
   "source": [
    "# Test 3:\n",
    "\n",
    "s = \"III\"\n",
    "\n",
    "romanToInt(s)\n",
    "\n",
    "# Explanation: III = 3."
   ]
  },
  {
   "cell_type": "code",
   "execution_count": 17,
   "id": "b0c2402b-6f4c-43da-a794-6ebb1cc4e172",
   "metadata": {},
   "outputs": [],
   "source": [
    "def romanToInt_2(s):\n",
    "\n",
    "    translations = {\n",
    "        \"I\": 1,\n",
    "        \"V\": 5,\n",
    "        \"X\": 10,\n",
    "        \"L\": 50,\n",
    "        \"C\": 100,\n",
    "        \"D\": 500,\n",
    "        \"M\": 1000\n",
    "    }\n",
    "    value_output = 0\n",
    "    # Modify s values to account for edge cases in place:\n",
    "    s = s.replace(\"IV\", \"IIII\").replace(\"IX\", \"VIIII\")\n",
    "    s = s.replace(\"XL\", \"XXXX\").replace(\"XC\", \"LXXXX\")\n",
    "    s = s.replace(\"CD\", \"CCCC\").replace(\"CM\", \"DCCCC\")\n",
    "\n",
    "    # Loop through the new s and add the value from the dict:\n",
    "    for char in s:\n",
    "        value_output += translations[char]\n",
    "   \n",
    "    return (value_output)"
   ]
  },
  {
   "cell_type": "code",
   "execution_count": 18,
   "id": "4bc10b18-828f-4ac0-af65-72fac118b81a",
   "metadata": {},
   "outputs": [
    {
     "data": {
      "text/plain": [
       "1994"
      ]
     },
     "execution_count": 18,
     "metadata": {},
     "output_type": "execute_result"
    }
   ],
   "source": [
    "# Test 1:\n",
    "\n",
    "s = \"MCMXCIV\"\n",
    "\n",
    "romanToInt_2(s)\n",
    "\n",
    "# Explanation: M = 1000, CM = 900, XC = 90 and IV = 4."
   ]
  },
  {
   "cell_type": "code",
   "execution_count": 19,
   "id": "34da2364-aad5-400a-9d3c-cd89ccb997dc",
   "metadata": {},
   "outputs": [
    {
     "data": {
      "text/plain": [
       "58"
      ]
     },
     "execution_count": 19,
     "metadata": {},
     "output_type": "execute_result"
    }
   ],
   "source": [
    "# Test 2:\n",
    "\n",
    "s = \"LVIII\"\n",
    "\n",
    "romanToInt_2(s)\n",
    "\n",
    "# Explanation: L = 50, V= 5, III = 3."
   ]
  },
  {
   "cell_type": "code",
   "execution_count": 20,
   "id": "2e80cc4f-f24c-4fc4-9067-b3cf6bbdf3ed",
   "metadata": {},
   "outputs": [
    {
     "data": {
      "text/plain": [
       "3"
      ]
     },
     "execution_count": 20,
     "metadata": {},
     "output_type": "execute_result"
    }
   ],
   "source": [
    "# Test 3:\n",
    "\n",
    "s = \"III\"\n",
    "\n",
    "romanToInt_2(s)\n",
    "\n",
    "# Explanation: III = 3."
   ]
  },
  {
   "cell_type": "code",
   "execution_count": null,
   "id": "4b537411-b798-4b56-8ed6-307b44f88ef9",
   "metadata": {},
   "outputs": [],
   "source": []
  }
 ],
 "metadata": {
  "kernelspec": {
   "display_name": "Python 3 (ipykernel)",
   "language": "python",
   "name": "python3"
  },
  "language_info": {
   "codemirror_mode": {
    "name": "ipython",
    "version": 3
   },
   "file_extension": ".py",
   "mimetype": "text/x-python",
   "name": "python",
   "nbconvert_exporter": "python",
   "pygments_lexer": "ipython3",
   "version": "3.11.7"
  }
 },
 "nbformat": 4,
 "nbformat_minor": 5
}
