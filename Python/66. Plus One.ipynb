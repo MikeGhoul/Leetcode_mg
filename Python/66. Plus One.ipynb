{
 "cells": [
  {
   "cell_type": "markdown",
   "id": "643ec8f6-d710-48e9-ae75-f294d0ff4150",
   "metadata": {},
   "source": [
    "# 66. Plus One\n",
    "\n",
    "You are given a large integer represented as an integer array digits, where each digits[i] is the ith digit of the integer. The digits are ordered from most significant to least significant in left-to-right order. The large integer does not contain any leading 0's.\n",
    "\n",
    "Increment the large integer by one and return the resulting array of digits.\n",
    "\n",
    "\n",
    "Example 1:\n",
    "\n",
    "- Input: digits = [1,2,3]\n",
    "- Output: [1,2,4]\n",
    "- Explanation: The array represents the integer 123.\n",
    "Incrementing by one gives 123 + 1 = 124.\n",
    "Thus, the result should be [1,2,4].\n",
    "\n",
    "Example 2:\n",
    "\n",
    "- Input: digits = [4,3,2,1]\n",
    "- Output: [4,3,2,2]\n",
    "- Explanation: The array represents the integer 4321.\n",
    "Incrementing by one gives 4321 + 1 = 4322.\n",
    "Thus, the result should be [4,3,2,2].\n",
    "\n",
    "Example 3:\n",
    "\n",
    "- Input: digits = [9]\n",
    "- Output: [1,0]\n",
    "- Explanation: The array represents the integer 9.\n",
    "Incrementing by one gives 9 + 1 = 10.\n",
    "Thus, the result should be [1,0].\n",
    "\n",
    "\n",
    "Constraints:\n",
    "\n",
    "1 <= digits.length <= 100\n",
    "0 <= digits[i] <= 9\n",
    "digits does not contain any leading 0's."
   ]
  },
  {
   "cell_type": "code",
   "execution_count": 1,
   "id": "1199b771-32cc-4bb8-b3f2-555efb663e51",
   "metadata": {},
   "outputs": [],
   "source": [
    "def plusOne(digits):\n",
    "    # for every element in the list digits:\n",
    "    # convert to string and join them together\n",
    "    # Then convert the joined string to a number\n",
    "    # Add 1 to the joined number\n",
    "    # convert it back to a list via list comprehension - convert to string so you can iterate by digit and generate a list\n",
    "\n",
    "    num = int(''.join(str(x) for x in digits))\n",
    "    num+= 1\n",
    "    result = [int(c) for c in str(num)]\n",
    "    return result"
   ]
  },
  {
   "cell_type": "code",
   "execution_count": 2,
   "id": "2a10e0a8-371c-4126-8505-58d3eea3fdba",
   "metadata": {},
   "outputs": [
    {
     "data": {
      "text/plain": [
       "[1, 2, 4]"
      ]
     },
     "execution_count": 2,
     "metadata": {},
     "output_type": "execute_result"
    }
   ],
   "source": [
    "# Example 1:\n",
    "\n",
    "digits = [1,2,3]\n",
    "#Output: [1,2,4]\n",
    "# Explanation: The array represents the integer 123. Incrementing by one gives 123 + 1 = 124. Thus, the result should be [1,2,4].\n",
    "\n",
    "plusOne(digits)"
   ]
  },
  {
   "cell_type": "code",
   "execution_count": 3,
   "id": "8dd43cd0-3090-4881-beac-dfb9e6d9edca",
   "metadata": {},
   "outputs": [
    {
     "data": {
      "text/plain": [
       "[4, 3, 2, 2]"
      ]
     },
     "execution_count": 3,
     "metadata": {},
     "output_type": "execute_result"
    }
   ],
   "source": [
    "# Example 2:\n",
    "\n",
    "digits = [4,3,2,1]\n",
    "#Output: [4,3,2,2]\n",
    "# Explanation: The array represents the integer 4321. Incrementing by one gives 4321 + 1 = 4322. Thus, the result should be [4,3,2,2].\n",
    "\n",
    "plusOne(digits)"
   ]
  },
  {
   "cell_type": "code",
   "execution_count": 4,
   "id": "2c7195de-73c4-4039-9fdd-b58063c3f9ce",
   "metadata": {},
   "outputs": [
    {
     "data": {
      "text/plain": [
       "[1, 0]"
      ]
     },
     "execution_count": 4,
     "metadata": {},
     "output_type": "execute_result"
    }
   ],
   "source": [
    "# Example 3:\n",
    "\n",
    "digits = [9]\n",
    "#Output: [1,0]\n",
    "# Explanation: TThe array represents the integer 9. Incrementing by one gives 9 + 1 = 10. Thus, the result should be [1,0].\n",
    "\n",
    "plusOne(digits)"
   ]
  }
 ],
 "metadata": {
  "kernelspec": {
   "display_name": "Python 3 (ipykernel)",
   "language": "python",
   "name": "python3"
  },
  "language_info": {
   "codemirror_mode": {
    "name": "ipython",
    "version": 3
   },
   "file_extension": ".py",
   "mimetype": "text/x-python",
   "name": "python",
   "nbconvert_exporter": "python",
   "pygments_lexer": "ipython3",
   "version": "3.11.7"
  }
 },
 "nbformat": 4,
 "nbformat_minor": 5
}
