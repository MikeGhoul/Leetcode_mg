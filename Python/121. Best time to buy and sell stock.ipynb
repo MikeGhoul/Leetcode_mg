{
 "cells": [
  {
   "cell_type": "markdown",
   "id": "643ec8f6-d710-48e9-ae75-f294d0ff4150",
   "metadata": {},
   "source": [
    "# 121. Best time to buy and sell stock\n",
    "\n",
    "You are given an array prices where prices[i] is the price of a given stock on the ith day.\n",
    "\n",
    "You want to maximize your profit by choosing a single day to buy one stock and choosing a different day in the future to sell that stock.\n",
    "\n",
    "Return the maximum profit you can achieve from this transaction. If you cannot achieve any profit, return 0.\n",
    "\n",
    "Example 1:\n",
    "- Input: prices = [7,1,5,3,6,4]\n",
    "- Output: 5\n",
    "- Explanation: Buy on day 2 (price = 1) and sell on day 5 (price = 6), profit = 6-1 = 5.\n",
    "- Note that buying on day 2 and selling on day 1 is not allowed because you must buy before you sell.\n",
    "\n",
    "Example 2:\n",
    "- Input: prices = [7,6,4,3,1]\n",
    "- Output: 0\n",
    "- Explanation: In this case, no transactions are done and the max profit = 0."
   ]
  },
  {
   "cell_type": "code",
   "execution_count": 1,
   "id": "1199b771-32cc-4bb8-b3f2-555efb663e51",
   "metadata": {},
   "outputs": [],
   "source": [
    "def maxProfit(prices):\n",
    "    \"\"\"\n",
    "    Iterate through a list and find the maximum positive differences in left to right order \n",
    "    (cannot take profit in the past) \n",
    "    if all values are less than previous, return profit of 0\n",
    "    \"\"\"\n",
    "    result = []\n",
    "    for i in range(len(prices)):\n",
    "        if max(prices[i:]) - (prices[i]) > 0:\n",
    "            result.append(max(prices[i:]) - prices[i])\n",
    "        else:\n",
    "            result.append(0)\n",
    "    return max(result)"
   ]
  },
  {
   "cell_type": "code",
   "execution_count": 2,
   "id": "2a10e0a8-371c-4126-8505-58d3eea3fdba",
   "metadata": {},
   "outputs": [
    {
     "data": {
      "text/plain": [
       "5"
      ]
     },
     "execution_count": 2,
     "metadata": {},
     "output_type": "execute_result"
    }
   ],
   "source": [
    "# Test 1:\n",
    "\n",
    "prices = [7,1,5,3,6,4]\n",
    "\n",
    "# Expected output = 5\n",
    "maxProfit(prices)"
   ]
  },
  {
   "cell_type": "code",
   "execution_count": 3,
   "id": "b988622c-7063-47fd-9bfa-cb3e6626cc23",
   "metadata": {},
   "outputs": [
    {
     "data": {
      "text/plain": [
       "0"
      ]
     },
     "execution_count": 3,
     "metadata": {},
     "output_type": "execute_result"
    }
   ],
   "source": [
    "# Test 2:\n",
    "\n",
    "prices = [7,6,4,3,1]\n",
    "\n",
    "# Expected output = 0\n",
    "maxProfit(prices)"
   ]
  },
  {
   "cell_type": "markdown",
   "id": "bfa37d9e-31fa-44b8-b767-576088cbbce1",
   "metadata": {},
   "source": [
    "While this solution works for the two smaller test cases, it does not do well for much larger inputs as the complexity causes the test to time out in Leetcode.\n",
    "\n",
    "Let's try a more optimal approach:"
   ]
  },
  {
   "cell_type": "code",
   "execution_count": 9,
   "id": "8988b0a3-e377-4b49-8699-dd0af2cfe09a",
   "metadata": {},
   "outputs": [],
   "source": [
    "def maxProfit(prices):\n",
    "    \"\"\"\n",
    "    Set the initial min_price at the first index\n",
    "    Set the max profit to default to 0 (if we have negative profit we will default to 0)\n",
    "    Iterate through the list of prices starting at the second index\n",
    "      - Calculate max proift as the maximum value of the max_profit and the difference between current iteration and min price\n",
    "      - Calculate min price as the minimum of the min_price when first set and the current iteration\n",
    "\n",
    "    Note:\n",
    "    In plain english we are:\n",
    "    Starting with the min_price set at the first value in the list\n",
    "    Iterating through the rest of the values and setting the max profit to the new value minus the min_price\n",
    "    Resetting the min price to a new value if the price in the list is lower than the previous value\n",
    "\n",
    "    If we have a list where the first value is the lowest in the list (e.g. 1, 2, 3, 4), the min_price will stay at 1\n",
    "    If we have a list where all the values descend and there is no profit, the max_value will stay at 0\n",
    "\n",
    "    \n",
    "    \n",
    "    \"\"\"\n",
    "    min_price = prices[0]\n",
    "    max_profit = 0\n",
    "\n",
    "    for price in prices[1:]:\n",
    "        max_profit = max(max_profit, price - min_price)\n",
    "        min_price = min(min_price, price)\n",
    "    \n",
    "    return max_profit"
   ]
  },
  {
   "cell_type": "code",
   "execution_count": 5,
   "id": "8dd43cd0-3090-4881-beac-dfb9e6d9edca",
   "metadata": {},
   "outputs": [
    {
     "data": {
      "text/plain": [
       "5"
      ]
     },
     "execution_count": 5,
     "metadata": {},
     "output_type": "execute_result"
    }
   ],
   "source": [
    "# Test 1:\n",
    "\n",
    "prices = [7,1,5,3,6,4]\n",
    "\n",
    "# Expected output = 5\n",
    "maxProfit(prices)"
   ]
  },
  {
   "cell_type": "code",
   "execution_count": 6,
   "id": "2c7195de-73c4-4039-9fdd-b58063c3f9ce",
   "metadata": {},
   "outputs": [
    {
     "data": {
      "text/plain": [
       "0"
      ]
     },
     "execution_count": 6,
     "metadata": {},
     "output_type": "execute_result"
    }
   ],
   "source": [
    "# Test 2:\n",
    "\n",
    "prices = [7,6,4,3,1]\n",
    "\n",
    "# Expected output = 0\n",
    "maxProfit(prices)"
   ]
  },
  {
   "cell_type": "code",
   "execution_count": 8,
   "id": "34b0e771-8250-48ad-833e-fa17cf454de9",
   "metadata": {},
   "outputs": [
    {
     "data": {
      "text/plain": [
       "5"
      ]
     },
     "execution_count": 8,
     "metadata": {},
     "output_type": "execute_result"
    }
   ],
   "source": [
    "# Test 3:\n",
    "\n",
    "prices = [2,7,1,5]\n",
    "\n",
    "# Expected output = 5\n",
    "maxProfit(prices)"
   ]
  }
 ],
 "metadata": {
  "kernelspec": {
   "display_name": "Python 3 (ipykernel)",
   "language": "python",
   "name": "python3"
  },
  "language_info": {
   "codemirror_mode": {
    "name": "ipython",
    "version": 3
   },
   "file_extension": ".py",
   "mimetype": "text/x-python",
   "name": "python",
   "nbconvert_exporter": "python",
   "pygments_lexer": "ipython3",
   "version": "3.11.7"
  }
 },
 "nbformat": 4,
 "nbformat_minor": 5
}
