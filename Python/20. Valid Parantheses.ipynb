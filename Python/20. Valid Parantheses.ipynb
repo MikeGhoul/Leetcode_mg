{
 "cells": [
  {
   "cell_type": "markdown",
   "id": "643ec8f6-d710-48e9-ae75-f294d0ff4150",
   "metadata": {},
   "source": [
    "# 20. Valid Parentheses\n",
    "\n",
    "Easy\n",
    "Topics\n",
    "Companies\n",
    "Hint\n",
    "Given a string s containing just the characters '(', ')', '{', '}', '[' and ']', determine if the input string is valid.\n",
    "\n",
    "An input string is valid if:\n",
    "\n",
    "Open brackets must be closed by the same type of brackets.\n",
    "Open brackets must be closed in the correct order.\n",
    "Every close bracket has a corresponding open bracket of the same type.\n",
    " \n",
    "\n",
    "Example 1:\n",
    "\n",
    "Input: s = \"()\"\n",
    "Output: true\n",
    "Example 2:\n",
    "\n",
    "Input: s = \"()[]{}\"\n",
    "Output: true\n",
    "Example 3:\n",
    "\n",
    "Input: s = \"(]\"\n",
    "Output: false\n",
    " \n",
    "\n",
    "Constraints:\n",
    "\n",
    "1 <= s.length <= 104\n",
    "s consists of parentheses only '()[]{}'."
   ]
  },
  {
   "cell_type": "code",
   "execution_count": 24,
   "id": "1199b771-32cc-4bb8-b3f2-555efb663e51",
   "metadata": {},
   "outputs": [],
   "source": [
    "# Initial thought process:\n",
    "# create a list of all bracket types in order\n",
    "# loop through s, take the value at index + 1 and compare it to the value in the list of bracket types where it would match\n",
    "# if it matches, then the opening bracket matches the closing one\n",
    "\n",
    "# This however doesn't solve for the following cases:\n",
    "# What if the first part of s is False, but the last part is true: e.g. s = \"(]{}\". This would return true but it should fail\n",
    "def para(s):\n",
    "    brack = [\"(\" , \")\", \"[\", \"]\", \"{\" , \"}\"]\n",
    "    output = False\n",
    "    for i in range(len(s)-1):\n",
    "        print(i)\n",
    "        output = brack[brack.index(s[i]) + 1] == s[i + 1]\n",
    "    return output"
   ]
  },
  {
   "cell_type": "code",
   "execution_count": 25,
   "id": "2a10e0a8-371c-4126-8505-58d3eea3fdba",
   "metadata": {},
   "outputs": [
    {
     "name": "stdout",
     "output_type": "stream",
     "text": [
      "0\n"
     ]
    },
    {
     "data": {
      "text/plain": [
       "True"
      ]
     },
     "execution_count": 25,
     "metadata": {},
     "output_type": "execute_result"
    }
   ],
   "source": [
    "s = \"()\"\n",
    "\n",
    "para(s)"
   ]
  },
  {
   "cell_type": "code",
   "execution_count": 26,
   "id": "b988622c-7063-47fd-9bfa-cb3e6626cc23",
   "metadata": {},
   "outputs": [
    {
     "name": "stdout",
     "output_type": "stream",
     "text": [
      "0\n",
      "1\n",
      "2\n",
      "3\n",
      "4\n"
     ]
    },
    {
     "data": {
      "text/plain": [
       "True"
      ]
     },
     "execution_count": 26,
     "metadata": {},
     "output_type": "execute_result"
    }
   ],
   "source": [
    "s = \"()[]{}\"\n",
    "\n",
    "para(s)"
   ]
  },
  {
   "cell_type": "code",
   "execution_count": 27,
   "id": "565362cb-3672-45ab-9a06-b726bfe218a2",
   "metadata": {},
   "outputs": [
    {
     "data": {
      "text/plain": [
       "6"
      ]
     },
     "execution_count": 27,
     "metadata": {},
     "output_type": "execute_result"
    }
   ],
   "source": [
    "len(s)"
   ]
  },
  {
   "cell_type": "code",
   "execution_count": 30,
   "id": "2d0f14a2-8b6a-4bfc-8366-8a8116fa29cb",
   "metadata": {},
   "outputs": [
    {
     "name": "stdout",
     "output_type": "stream",
     "text": [
      "0\n",
      "1\n",
      "2\n"
     ]
    },
    {
     "data": {
      "text/plain": [
       "True"
      ]
     },
     "execution_count": 30,
     "metadata": {},
     "output_type": "execute_result"
    }
   ],
   "source": [
    "s = \"(]{}\"\n",
    "\n",
    "# This test case fails\n",
    "para(s)"
   ]
  },
  {
   "cell_type": "code",
   "execution_count": 32,
   "id": "4b537411-b798-4b56-8ed6-307b44f88ef9",
   "metadata": {},
   "outputs": [],
   "source": [
    "def para_2(s):\n",
    "    # Initialize an empty list:\n",
    "    output = []\n",
    "\n",
    "    # Loop through s for every character:\n",
    "    for b in s:\n",
    "    # If the char is an opening bracket, append it to our empty list\n",
    "        if b in '({[':\n",
    "                output.append(b)\n",
    "    # If the char is a closing bracket:\n",
    "        else:\n",
    "    # Check if output is empty - if empty, return false since the closing bracket doesn't have an opening one in the list\n",
    "    # Check also if the char has a matching opening bracket at index -1 (last item in list)\n",
    "    # If either of these tests fail, return false \n",
    "            if not output or \\\n",
    "                (b == ')' and output[-1] != '(') or \\\n",
    "                (b == '}' and output[-1] != '{') or \\\n",
    "                (b == ']' and output[-1] != '['):\n",
    "                return False\n",
    "    # If the tests pass, pop the opening bracket from the list\n",
    "            output.pop()\n",
    "    # If the list is empty, return true as all opening brackets matched with the closing ones. If there are values in output, return False\n",
    "    return not output\n",
    "    "
   ]
  },
  {
   "cell_type": "code",
   "execution_count": 33,
   "id": "47150696-5268-4a8a-8fae-1863f2d0b861",
   "metadata": {},
   "outputs": [
    {
     "data": {
      "text/plain": [
       "True"
      ]
     },
     "execution_count": 33,
     "metadata": {},
     "output_type": "execute_result"
    }
   ],
   "source": [
    "s = \"()\"\n",
    "\n",
    "para_2(s)\n"
   ]
  },
  {
   "cell_type": "code",
   "execution_count": 36,
   "id": "d837d15c-b5c0-4a59-9c5a-459a27d543af",
   "metadata": {},
   "outputs": [
    {
     "data": {
      "text/plain": [
       "False"
      ]
     },
     "execution_count": 36,
     "metadata": {},
     "output_type": "execute_result"
    }
   ],
   "source": [
    "s = \"(]{}\"\n",
    "\n",
    "# This test case now passes\n",
    "para_2(s)"
   ]
  }
 ],
 "metadata": {
  "kernelspec": {
   "display_name": "Python 3 (ipykernel)",
   "language": "python",
   "name": "python3"
  },
  "language_info": {
   "codemirror_mode": {
    "name": "ipython",
    "version": 3
   },
   "file_extension": ".py",
   "mimetype": "text/x-python",
   "name": "python",
   "nbconvert_exporter": "python",
   "pygments_lexer": "ipython3",
   "version": "3.11.7"
  }
 },
 "nbformat": 4,
 "nbformat_minor": 5
}
