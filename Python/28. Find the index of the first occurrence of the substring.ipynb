{
 "cells": [
  {
   "cell_type": "markdown",
   "id": "643ec8f6-d710-48e9-ae75-f294d0ff4150",
   "metadata": {},
   "source": [
    "# 28. Find the Index of the First Occurrence in a String\n",
    "\n",
    "Easy\n",
    "\n",
    "Given two strings needle and haystack, return the index of the first occurrence of needle in haystack, or -1 if needle is not part of haystack.\n",
    "\n",
    " \n",
    "\n",
    "Example 1:\n",
    "\n",
    "Input: haystack = \"sadbutsad\", needle = \"sad\"\n",
    "Output: 0\n",
    "Explanation: \"sad\" occurs at index 0 and 6.\n",
    "The first occurrence is at index 0, so we return 0.\n",
    "\n",
    "Example 2:\n",
    "\n",
    "Input: haystack = \"leetcode\", needle = \"leeto\"\n",
    "Output: -1\n",
    "Explanation: \"leeto\" did not occur in \"leetcode\", so we return -1.\n",
    " \n",
    "\n",
    "Constraints:\n",
    "\n",
    "1 <= haystack.length, needle.length <= 104\n",
    "haystack and needle consist of only lowercase English characters."
   ]
  },
  {
   "cell_type": "code",
   "execution_count": 2,
   "id": "1199b771-32cc-4bb8-b3f2-555efb663e51",
   "metadata": {},
   "outputs": [],
   "source": [
    "def strStr(haystack, needle):\n",
    "    return haystack.find(needle)\n",
    "\n",
    "# This solves the problem since the builin find returns -1 if not found and the first index of where the substring is found"
   ]
  },
  {
   "cell_type": "code",
   "execution_count": 4,
   "id": "2a10e0a8-371c-4126-8505-58d3eea3fdba",
   "metadata": {},
   "outputs": [
    {
     "data": {
      "text/plain": [
       "0"
      ]
     },
     "execution_count": 4,
     "metadata": {},
     "output_type": "execute_result"
    }
   ],
   "source": [
    "haystack = \"sadbutsad\"\n",
    "needle = \"sad\"\n",
    "\n",
    "strStr(haystack, needle)\n",
    "\n",
    "# Explanation: \"sad\" occurs at index 0 and 6.\n",
    "# The first occurrence is at index 0, so we return 0."
   ]
  },
  {
   "cell_type": "code",
   "execution_count": 5,
   "id": "b988622c-7063-47fd-9bfa-cb3e6626cc23",
   "metadata": {},
   "outputs": [
    {
     "data": {
      "text/plain": [
       "-1"
      ]
     },
     "execution_count": 5,
     "metadata": {},
     "output_type": "execute_result"
    }
   ],
   "source": [
    "haystack = \"leetcode\"\n",
    "needle = \"leeto\"\n",
    "\n",
    "strStr(haystack, needle)\n",
    "\n",
    "# Explanation: \"leeto\" did not occur in \"leetcode\", so we return -1."
   ]
  },
  {
   "cell_type": "code",
   "execution_count": 6,
   "id": "4b537411-b798-4b56-8ed6-307b44f88ef9",
   "metadata": {},
   "outputs": [],
   "source": [
    "# more of a manual approach:\n",
    "def strStr_2(haystack, needle):\n",
    "    # Iterate through the haystack string\n",
    "    # Go up to len(haystack) - len(needle) to ensure that there are enough chars in the haystack to check for the needle\n",
    "    for i in range(len(haystack) - len(needle) + 1):\n",
    "    # Check the substrings of length equal to the length of the needle string\n",
    "    # Start from current index and up to i + len(needle)\n",
    "        if haystack[i: i + len(needle)] == needle:\n",
    "            return i\n",
    "    # If no matches, return -1\n",
    "    return -1\n",
    "\n"
   ]
  },
  {
   "cell_type": "code",
   "execution_count": 7,
   "id": "47150696-5268-4a8a-8fae-1863f2d0b861",
   "metadata": {},
   "outputs": [
    {
     "data": {
      "text/plain": [
       "0"
      ]
     },
     "execution_count": 7,
     "metadata": {},
     "output_type": "execute_result"
    }
   ],
   "source": [
    "haystack = \"sadbutsad\"\n",
    "needle = \"sad\"\n",
    "\n",
    "strStr_2(haystack, needle)\n",
    "\n",
    "# Explanation: \"sad\" occurs at index 0 and 6.\n",
    "# The first occurrence is at index 0, so we return 0."
   ]
  },
  {
   "cell_type": "code",
   "execution_count": 8,
   "id": "d837d15c-b5c0-4a59-9c5a-459a27d543af",
   "metadata": {},
   "outputs": [
    {
     "data": {
      "text/plain": [
       "-1"
      ]
     },
     "execution_count": 8,
     "metadata": {},
     "output_type": "execute_result"
    }
   ],
   "source": [
    "haystack = \"leetcode\"\n",
    "needle = \"leeto\"\n",
    "\n",
    "strStr_2(haystack, needle)\n",
    "\n",
    "# Explanation: \"leeto\" did not occur in \"leetcode\", so we return -1."
   ]
  },
  {
   "cell_type": "code",
   "execution_count": 9,
   "id": "81f6d2c5-ab95-48c8-9a61-c8913ac3adce",
   "metadata": {},
   "outputs": [
    {
     "data": {
      "text/plain": [
       "4"
      ]
     },
     "execution_count": 9,
     "metadata": {},
     "output_type": "execute_result"
    }
   ],
   "source": [
    "haystack = \"testleetocodeleet\"\n",
    "needle = \"leeto\"\n",
    "\n",
    "strStr(haystack, needle)\n",
    "\n",
    "# Explanation: \"leeto\" did not occur in \"leetcode\", so we return -1."
   ]
  },
  {
   "cell_type": "code",
   "execution_count": null,
   "id": "bf456d2a-4cf6-4e56-875b-ae9d162af305",
   "metadata": {},
   "outputs": [],
   "source": []
  }
 ],
 "metadata": {
  "kernelspec": {
   "display_name": "Python 3 (ipykernel)",
   "language": "python",
   "name": "python3"
  },
  "language_info": {
   "codemirror_mode": {
    "name": "ipython",
    "version": 3
   },
   "file_extension": ".py",
   "mimetype": "text/x-python",
   "name": "python",
   "nbconvert_exporter": "python",
   "pygments_lexer": "ipython3",
   "version": "3.11.7"
  }
 },
 "nbformat": 4,
 "nbformat_minor": 5
}
