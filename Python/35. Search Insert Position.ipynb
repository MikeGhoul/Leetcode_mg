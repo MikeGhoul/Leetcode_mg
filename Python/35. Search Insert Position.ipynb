{
 "cells": [
  {
   "cell_type": "markdown",
   "id": "643ec8f6-d710-48e9-ae75-f294d0ff4150",
   "metadata": {},
   "source": [
    "# 35. Search Insert Position\n",
    "\n",
    "Given a sorted array of distinct integers and a target value, return the index if the target is found. If not, return the index where it would be if it were inserted in order.\n",
    "\n",
    "You must write an algorithm with O(log n) runtime complexity.\n",
    "\n",
    "\n",
    "Example 1:\n",
    "Input: nums = [1,3,5,6], target = 5\n",
    "Output: 2\n",
    "\n",
    "Example 2:\n",
    "Input: nums = [1,3,5,6], target = 2\n",
    "Output: 1\n",
    "\n",
    "Example 3:\n",
    "Input: nums = [1,3,5,6], target = 7\n",
    "Output: 4\n",
    " \n",
    "\n",
    "Constraints:\n",
    "\n",
    "1 <= nums.length <= 104\n",
    "-104 <= nums[i] <= 104\n",
    "nums contains distinct values sorted in ascending order.\n",
    "-104 <= target <= 104\n"
   ]
  },
  {
   "cell_type": "code",
   "execution_count": 1,
   "id": "ebaa89db-7bef-4367-a899-83389b55ebc5",
   "metadata": {},
   "outputs": [],
   "source": [
    "def searchInsert(nums, target):\n",
    "    l = 0\n",
    "    r = len(nums) - 1\n",
    "\n",
    "    while l <= r:\n",
    "        mid = (l + r) // 2\n",
    "        if nums[mid] > target:\n",
    "            # If midpoint is greater than target, we want to look at all values to the left of midpoint\n",
    "            r = mid - 1\n",
    "        \n",
    "        elif nums[mid] < target:\n",
    "            # If midpoint is less than the target, we want to look at all values to the right of the midpoint\n",
    "            l = mid + 1\n",
    "        \n",
    "        else:\n",
    "            # If it's not greater of smaller then we found our target (it's equal)\n",
    "            return mid\n",
    "    \n",
    "    # If we go through every iteration of the loop and don't find a result:\n",
    "    # l eventually becomes greater than r and we return l as that is where the value should be input\n",
    "    # (see below cells for step by step)\n",
    "    \n",
    "    return l"
   ]
  },
  {
   "cell_type": "markdown",
   "id": "cbf81147-ac31-4871-98c5-fb12994f45b8",
   "metadata": {},
   "source": [
    "# Let's look at the case where the target number is not present.\n",
    "Input: nums = [1,3,5,6], target = 2"
   ]
  },
  {
   "cell_type": "code",
   "execution_count": null,
   "id": "fd7f6bda-2cc9-4a3c-a00c-9303a6c0bd61",
   "metadata": {},
   "outputs": [],
   "source": [
    "[1,3,5,6]\n",
    " L M   R"
   ]
  },
  {
   "cell_type": "code",
   "execution_count": null,
   "id": "97421509-954e-402a-bb2c-4a970aabee3f",
   "metadata": {},
   "outputs": [],
   "source": [
    "# Now middle number is greater than the target, so move R to M - 1.\n",
    "\n",
    "[1,3,5,6]\n",
    " L\n",
    " R\n",
    " M"
   ]
  },
  {
   "cell_type": "code",
   "execution_count": null,
   "id": "e4678b88-1e67-4ee4-944a-09a769b85ab2",
   "metadata": {},
   "outputs": [],
   "source": [
    "# Now middle number is less than the target, so move L to M + 1.\n",
    "[1,3,5,6]\n",
    " R L\n",
    "\n",
    "\n",
    "# Now L is greater than R. We stop binary search. As a result, we don't find the target.\n",
    "\n",
    "# The description says \"return the index where it would be if it were inserted in order.\"\n",
    "\n",
    "# In this case, we should insert the target into index 1. As you see, L is now at index 1, so\n"
   ]
  },
  {
   "cell_type": "markdown",
   "id": "05d3606b-4a4d-447d-9003-42f0589bc241",
   "metadata": {},
   "source": [
    "------------------------------------"
   ]
  },
  {
   "cell_type": "code",
   "execution_count": 2,
   "id": "c1f13c27-1653-4ef2-94f8-fd444e5a43b5",
   "metadata": {},
   "outputs": [
    {
     "data": {
      "text/plain": [
       "2"
      ]
     },
     "execution_count": 2,
     "metadata": {},
     "output_type": "execute_result"
    }
   ],
   "source": [
    "# Example 1:\n",
    "\n",
    "nums = [1,3,5,6]\n",
    "target = 5\n",
    "\n",
    "searchInsert(nums, target)\n",
    "\n",
    "# Expected output: 2"
   ]
  },
  {
   "cell_type": "code",
   "execution_count": 3,
   "id": "67dafa65-116d-4d4c-841b-f24a770a87ad",
   "metadata": {},
   "outputs": [
    {
     "data": {
      "text/plain": [
       "1"
      ]
     },
     "execution_count": 3,
     "metadata": {},
     "output_type": "execute_result"
    }
   ],
   "source": [
    "# Example 2:\n",
    "\n",
    "nums = [1,3,5,6]\n",
    "target = 2\n",
    "\n",
    "searchInsert(nums, target)\n",
    "\n",
    "# Expected output: 1"
   ]
  },
  {
   "cell_type": "code",
   "execution_count": 4,
   "id": "df4e7aed-a4c1-4612-9656-15735afde3cd",
   "metadata": {},
   "outputs": [
    {
     "data": {
      "text/plain": [
       "4"
      ]
     },
     "execution_count": 4,
     "metadata": {},
     "output_type": "execute_result"
    }
   ],
   "source": [
    "# Example 3:\n",
    "\n",
    "nums = [1,3,5,6]\n",
    "target = 7\n",
    "\n",
    "searchInsert(nums, target)\n",
    "\n",
    "# Expected output: 4"
   ]
  },
  {
   "cell_type": "code",
   "execution_count": null,
   "id": "f4cb55fe-487f-4796-9ced-cbdc5d196949",
   "metadata": {},
   "outputs": [],
   "source": []
  }
 ],
 "metadata": {
  "kernelspec": {
   "display_name": "Python 3 (ipykernel)",
   "language": "python",
   "name": "python3"
  },
  "language_info": {
   "codemirror_mode": {
    "name": "ipython",
    "version": 3
   },
   "file_extension": ".py",
   "mimetype": "text/x-python",
   "name": "python",
   "nbconvert_exporter": "python",
   "pygments_lexer": "ipython3",
   "version": "3.11.7"
  }
 },
 "nbformat": 4,
 "nbformat_minor": 5
}
