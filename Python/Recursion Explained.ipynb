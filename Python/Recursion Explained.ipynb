{
 "cells": [
  {
   "cell_type": "markdown",
   "id": "643ec8f6-d710-48e9-ae75-f294d0ff4150",
   "metadata": {},
   "source": [
    "# Recursion Explained\n",
    "\n",
    "Helpful video: https://www.youtube.com/watch?v=wMNrSM5RFMc\n",
    "\n",
    "A Recursive function breaks the problem down into smaller problems and calls itself for each of the smaller problems.\n",
    "It includes a base case (or terminal case) and a recursive case.\n",
    "\n",
    "Example factorial:\n",
    "\n",
    "5! = 5 Factorial = 5 * 4 * 3 * 2 * 1 = 120\n",
    "\n",
    "Notes: 0! = 1\n",
    "       1! = 1\n",
    "\n",
    "Let's find an algorithm to find factorial for any number: n!"
   ]
  },
  {
   "cell_type": "code",
   "execution_count": 4,
   "id": "ebaa89db-7bef-4367-a899-83389b55ebc5",
   "metadata": {},
   "outputs": [
    {
     "data": {
      "text/plain": [
       "0"
      ]
     },
     "execution_count": 4,
     "metadata": {},
     "output_type": "execute_result"
    }
   ],
   "source": [
    "# Iterative way:\n",
    "# Uses a loop and computes as it goes\n",
    "def getFactorial(num):\n",
    "    factorial = 1\n",
    "    # add 1 to num to include num as the last iteration\n",
    "    for i in range(1, num + 1):\n",
    "        factorial *= i\n",
    "    return factorial\n",
    "\n",
    "getFactorial(5)"
   ]
  },
  {
   "cell_type": "markdown",
   "id": "ff6f1aa9-1fc7-4c98-aab7-9915794dadff",
   "metadata": {},
   "source": [
    "# Recursive way:\n",
    "\n",
    "Looking at the factorial example, 5! = 5 * 4!, 4! = 4 * 3!, etc. \n",
    "\n",
    "We can continue doing this until we get down to our base case which is 1! = 1\n",
    "\n",
    "Our recursive algorithm looks like this:\n",
    "- getFactorial(5) -> 5 * getFactorial(4)\n",
    "- getFactorial(4) -> 4 * getFactorial(3)\n",
    "- getFactorial(4) -> 3 * getFactorial(2)\n",
    "- getFactorial(4) -> 2 * getFactorial(1)\n",
    "- getFactorial(1) -> return 1\n",
    "\n",
    "Our recursive algorithm looks like this:\n",
    "- 1 * 2 = 2\n",
    "- 2 * 3 = 6\n",
    "- 6 * 4 = 24\n",
    "- 24 * 5 = 120"
   ]
  },
  {
   "cell_type": "code",
   "execution_count": 6,
   "id": "9be6e60a-a2fc-47b1-af1f-64e7dd3c719b",
   "metadata": {},
   "outputs": [
    {
     "data": {
      "text/plain": [
       "120"
      ]
     },
     "execution_count": 6,
     "metadata": {},
     "output_type": "execute_result"
    }
   ],
   "source": [
    "# Recursive function:\n",
    "def getFactorialRecur(num):\n",
    "    # can add logic for if n < 0\n",
    "    if num < 2:\n",
    "        return 1\n",
    "    else:\n",
    "        return num * getFactorialRecur(num - 1)\n",
    "\n",
    "\n",
    "getFactorialRecur(5)"
   ]
  },
  {
   "cell_type": "markdown",
   "id": "69fdacf5-a058-41ce-b214-938f135fe139",
   "metadata": {},
   "source": [
    "# Recursion Pros and Cons\n",
    "\n",
    "Typically no calculations are done until the base case is reached. \n",
    "So for very large problems (millions of recursive calls) you may run out of memory since you'll have millions of open function calls.\n",
    "\n",
    "Cons:\n",
    "- Does not scale up like iteration. Requires more memory.\n",
    "- In many languages, iterative solutions are faster\n",
    "- Sometimes more abstract or harder to understand than iterative solutions\n",
    "\n",
    "Pros:\n",
    "- In some cases, extremely fast and easy to code.\n",
    "- Extremely practical for tree traversals and binary search."
   ]
  },
  {
   "cell_type": "code",
   "execution_count": null,
   "id": "113364b2-31cd-4ea1-9553-1723243ede34",
   "metadata": {},
   "outputs": [],
   "source": []
  }
 ],
 "metadata": {
  "kernelspec": {
   "display_name": "Python 3 (ipykernel)",
   "language": "python",
   "name": "python3"
  },
  "language_info": {
   "codemirror_mode": {
    "name": "ipython",
    "version": 3
   },
   "file_extension": ".py",
   "mimetype": "text/x-python",
   "name": "python",
   "nbconvert_exporter": "python",
   "pygments_lexer": "ipython3",
   "version": "3.11.7"
  }
 },
 "nbformat": 4,
 "nbformat_minor": 5
}
