{
 "cells": [
  {
   "cell_type": "markdown",
   "id": "643ec8f6-d710-48e9-ae75-f294d0ff4150",
   "metadata": {},
   "source": [
    "# Binary Search Explained\n",
    "\n",
    "Look through a sorted sequence and determine if the item we are looking for is in that sequence already\n",
    "We take the midpoint of our seq:\n",
    "- If the item we are looking for is higher, then we choose the items to the right to do the next comparison (search > midpoint = check right)\n",
    "- If the item we are looking for is lower, then we choose the items to the left to do the next comparison (search < midpoint = check left)\n",
    "- Eventually we'll figure out if our sequence has the item we are looking for"
   ]
  },
  {
   "cell_type": "code",
   "execution_count": 6,
   "id": "ebaa89db-7bef-4367-a899-83389b55ebc5",
   "metadata": {},
   "outputs": [
    {
     "name": "stdout",
     "output_type": "stream",
     "text": [
      "3\n",
      "5\n",
      "4\n"
     ]
    },
    {
     "data": {
      "text/plain": [
       "4"
      ]
     },
     "execution_count": 6,
     "metadata": {},
     "output_type": "execute_result"
    }
   ],
   "source": [
    "# iterative way:\n",
    "def binary_search(seq, item):\n",
    "    begin_index = 0\n",
    "    end_index = len(seq) - 1\n",
    "\n",
    "    while begin_index <= end_index:\n",
    "        midpoint = (begin_index + end_index) // 2\n",
    "        print(midpoint)\n",
    "        if seq[midpoint] > item:\n",
    "            # If midpoint is greater than target, we want to look at all values to the left of midpoint\n",
    "            end_index = midpoint - 1\n",
    "        \n",
    "        elif seq[midpoint] < item:\n",
    "            # If midpoint is less than the target, we want to look at all values to the right of the midpoint\n",
    "            begin_index = midpoint + 1\n",
    "        \n",
    "        else:\n",
    "            # If it's not greater of smaller then we found our target (it's equal)\n",
    "            return midpoint\n",
    "    \n",
    "    # If we go through every iteration of the loop and don't find a result:\n",
    "    return None\n",
    "            \n",
    "        \n",
    "sequence_a = [2, 4, 5, 6, 12, 13, 14]\n",
    "item_a = 12\n",
    "\n",
    "binary_search(sequence_a, item_a)\n"
   ]
  }
 ],
 "metadata": {
  "kernelspec": {
   "display_name": "Python 3 (ipykernel)",
   "language": "python",
   "name": "python3"
  },
  "language_info": {
   "codemirror_mode": {
    "name": "ipython",
    "version": 3
   },
   "file_extension": ".py",
   "mimetype": "text/x-python",
   "name": "python",
   "nbconvert_exporter": "python",
   "pygments_lexer": "ipython3",
   "version": "3.11.7"
  }
 },
 "nbformat": 4,
 "nbformat_minor": 5
}
