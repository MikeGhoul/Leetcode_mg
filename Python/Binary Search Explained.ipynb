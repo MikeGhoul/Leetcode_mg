{
 "cells": [
  {
   "cell_type": "markdown",
   "id": "643ec8f6-d710-48e9-ae75-f294d0ff4150",
   "metadata": {},
   "source": [
    "# Binary Search Explained\n",
    "\n",
    "Helpful videos: \n",
    "- https://www.youtube.com/watch?v=SfxLtJyxaPg\n",
    "- https://www.youtube.com/watch?v=tgVSkMA8joQ\n",
    "\n",
    "Look through a sorted sequence and determine if the item we are looking for is in that sequence already\n",
    "We take the midpoint of our seq:\n",
    "- If the item we are looking for is higher, then we choose the items to the right to do the next comparison (search > midpoint = check right)\n",
    "- If the item we are looking for is lower, then we choose the items to the left to do the next comparison (search < midpoint = check left)\n",
    "- Eventually we'll figure out if our sequence has the item we are looking for. If the item is not in the list, the search will continue until the end_index is less than the begin_index and will break out of our while loop."
   ]
  },
  {
   "cell_type": "code",
   "execution_count": 7,
   "id": "ebaa89db-7bef-4367-a899-83389b55ebc5",
   "metadata": {},
   "outputs": [
    {
     "name": "stdout",
     "output_type": "stream",
     "text": [
      "3\n",
      "5\n",
      "4\n"
     ]
    },
    {
     "data": {
      "text/plain": [
       "4"
      ]
     },
     "execution_count": 7,
     "metadata": {},
     "output_type": "execute_result"
    }
   ],
   "source": [
    "# iterative way:\n",
    "def binary_search(seq, item):\n",
    "    begin_index = 0\n",
    "    end_index = len(seq) - 1\n",
    "\n",
    "    while begin_index <= end_index:\n",
    "        midpoint = (begin_index + end_index) // 2\n",
    "        # adding a print to show the moving of midpoint\n",
    "        print(midpoint)\n",
    "        if seq[midpoint] > item:\n",
    "            # If midpoint is greater than target, we want to look at all values to the left of midpoint\n",
    "            end_index = midpoint - 1\n",
    "        \n",
    "        elif seq[midpoint] < item:\n",
    "            # If midpoint is less than the target, we want to look at all values to the right of the midpoint\n",
    "            begin_index = midpoint + 1\n",
    "        \n",
    "        else:\n",
    "            # If it's not greater of smaller then we found our target (it's equal)\n",
    "            return midpoint\n",
    "    \n",
    "    # If we go through every iteration of the loop and don't find a result:\n",
    "    return None\n",
    "            \n",
    "        \n",
    "sequence_a = [2, 4, 5, 6, 12, 13, 14]\n",
    "item_a = 12\n",
    "\n",
    "binary_search(sequence_a, item_a)\n"
   ]
  },
  {
   "cell_type": "code",
   "execution_count": 18,
   "id": "5f72f692-91e7-4eca-9072-6135053c48e1",
   "metadata": {},
   "outputs": [
    {
     "data": {
      "text/plain": [
       "3"
      ]
     },
     "execution_count": 18,
     "metadata": {},
     "output_type": "execute_result"
    }
   ],
   "source": [
    "# recursive way:\n",
    "def binary_search_algo(lst, target):\n",
    "    return binary_search_recur(lst, 0, len(lst)- 1, target)\n",
    "\n",
    "\n",
    "def binary_search_recur(lst, l, r, target):\n",
    "    if l > r:\n",
    "        return -1\n",
    "    mid = (l + r) // 2\n",
    "    # If our value is greater than the value at mid, move the low to the mid + 1\n",
    "    if lst[mid] < target:\n",
    "        return binary_search_recur(lst, mid+1, r, target)\n",
    "    # If our value is less than the value at mid, move the high to the mid - 1\n",
    "    elif lst[mid] > target:\n",
    "        return binary_search_recur(lst, l, mid -1, target)\n",
    "    # If our value is not less than or greater than the value at mid, we have found our value at mid\n",
    "    else:\n",
    "        return mid\n",
    "    \n",
    "        \n",
    "sorted = [1, 2, 3, 4, 5, 6, 7, 8, 9, 10]\n",
    "\n",
    "# we can just input the list and target as the binary_search_algo calls the recursive function\n",
    "binary_search_algo(sorted, 4)"
   ]
  },
  {
   "cell_type": "code",
   "execution_count": null,
   "id": "efcb64c2-e942-4364-9130-b72b09f824b0",
   "metadata": {},
   "outputs": [],
   "source": []
  }
 ],
 "metadata": {
  "kernelspec": {
   "display_name": "Python 3 (ipykernel)",
   "language": "python",
   "name": "python3"
  },
  "language_info": {
   "codemirror_mode": {
    "name": "ipython",
    "version": 3
   },
   "file_extension": ".py",
   "mimetype": "text/x-python",
   "name": "python",
   "nbconvert_exporter": "python",
   "pygments_lexer": "ipython3",
   "version": "3.11.7"
  }
 },
 "nbformat": 4,
 "nbformat_minor": 5
}
