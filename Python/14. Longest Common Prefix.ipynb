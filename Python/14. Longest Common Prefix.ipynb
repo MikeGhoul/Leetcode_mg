{
 "cells": [
  {
   "cell_type": "markdown",
   "id": "643ec8f6-d710-48e9-ae75-f294d0ff4150",
   "metadata": {},
   "source": [
    "# 14. Longest Common Prefix\n",
    "\n",
    "(Easy)\n",
    "\n",
    "Write a function to find the longest common prefix string amongst an array of strings.\n",
    "\n",
    "If there is no common prefix, return an empty string \"\".\n",
    "\n",
    " \n",
    "Example 1:\n",
    "\n",
    "Input: strs = [\"flower\",\"flow\",\"flight\"]\n",
    "Output: \"fl\"\n",
    "Example 2:\n",
    "\n",
    "Input: strs = [\"dog\",\"racecar\",\"car\"]\n",
    "Output: \"\"\n",
    "Explanation: There is no common prefix among the input strings.\n",
    " \n",
    "\n",
    "Constraints:\n",
    "\n",
    "1 <= strs.length <= 200\n",
    "0 <= strs[i].length <= 200\n",
    "strs[i] consists of only lowercase English letters."
   ]
  },
  {
   "cell_type": "code",
   "execution_count": 37,
   "id": "a961d733-64c4-44a4-be81-63c0b88e6f07",
   "metadata": {},
   "outputs": [],
   "source": [
    "def longestCommonPrefix(strs):\n",
    "    prefix = ''\n",
    "    # Iterate through each character position in the first string(strs[0])\n",
    "    for i in range(len(strs[0])):      \n",
    "\n",
    "    # Iterate through the other strings starting from index 1.      \n",
    "        for j in range(1, len(strs)):\n",
    "                    \n",
    "    # Check if the current index i is out of bounds for the current string (strs[j])\n",
    "    # or if the characters at position i are different between strs[j] and strs[0].       \n",
    "            if i >= len(strs[j]) or strs[j][i] != strs[0][i]:\n",
    "\n",
    "    # Return the current prefix if this is the case (empty)\n",
    "                return prefix\n",
    "\n",
    "    # Append the current character to the common prefix otherwise\n",
    "        prefix += strs[0][i]\n",
    "    return prefix"
   ]
  },
  {
   "cell_type": "code",
   "execution_count": 38,
   "id": "2a10e0a8-371c-4126-8505-58d3eea3fdba",
   "metadata": {},
   "outputs": [
    {
     "data": {
      "text/plain": [
       "'fl'"
      ]
     },
     "execution_count": 38,
     "metadata": {},
     "output_type": "execute_result"
    }
   ],
   "source": [
    "# Test 1:\n",
    "\n",
    "strs = [\"flower\",\"flow\",\"flight\"]\n",
    "longestCommonPrefix(strs)"
   ]
  },
  {
   "cell_type": "code",
   "execution_count": 40,
   "id": "a0b1d592-8504-4d7e-9362-59fcc9588892",
   "metadata": {},
   "outputs": [
    {
     "data": {
      "text/plain": [
       "''"
      ]
     },
     "execution_count": 40,
     "metadata": {},
     "output_type": "execute_result"
    }
   ],
   "source": [
    "# Test 2:\n",
    "\n",
    "strs = [\"dog\",\"racecar\",\"car\"]\n",
    "longestCommonPrefix(strs)"
   ]
  },
  {
   "cell_type": "code",
   "execution_count": 42,
   "id": "b05aa66d-09ca-4d77-93bc-6aad15b92acd",
   "metadata": {},
   "outputs": [],
   "source": [
    "def longestCommonPrefix_2(strs):\n",
    "    # Option 2:\n",
    "    # Zip the strings together creating a tuple of each letter\n",
    "    # The shortest word will determine the length\n",
    "    # The question doesn't specify but it only counts a repeated prefix if it's found in all words in the array \n",
    "    # (e.g. if same prefix is only in two of three words, we don't count it as repeated - it needs to be all 3)\n",
    "    # We take the set of each letter (a) and if it's length is 1 that means the letter is repeated across all the words\n",
    "    # If that's the case, we append the letter to our string\n",
    "    # If none meet the criteria, we return the prefix as it was initialized (empty)\n",
    "    prefix = ''\n",
    "    for a in list(zip(*strs)):\n",
    "        if len(set(a)) == 1:\n",
    "            prefix += a[0]\n",
    "        else:\n",
    "            return prefix           \n",
    "    return prefix"
   ]
  },
  {
   "cell_type": "code",
   "execution_count": 43,
   "id": "58a69747-f0bf-4311-b1b5-95cd17df3589",
   "metadata": {},
   "outputs": [
    {
     "data": {
      "text/plain": [
       "'fl'"
      ]
     },
     "execution_count": 43,
     "metadata": {},
     "output_type": "execute_result"
    }
   ],
   "source": [
    "# Test 1:\n",
    "\n",
    "strs = [\"flower\",\"flow\",\"flight\"]\n",
    "longestCommonPrefix_2(strs)"
   ]
  },
  {
   "cell_type": "code",
   "execution_count": 44,
   "id": "c6219ad7-2613-4ee8-9ab8-830622d36bd4",
   "metadata": {},
   "outputs": [
    {
     "data": {
      "text/plain": [
       "''"
      ]
     },
     "execution_count": 44,
     "metadata": {},
     "output_type": "execute_result"
    }
   ],
   "source": [
    "# Test 2:\n",
    "\n",
    "strs = [\"dog\",\"racecar\",\"car\"]\n",
    "longestCommonPrefix_2(strs)"
   ]
  }
 ],
 "metadata": {
  "kernelspec": {
   "display_name": "Python 3 (ipykernel)",
   "language": "python",
   "name": "python3"
  },
  "language_info": {
   "codemirror_mode": {
    "name": "ipython",
    "version": 3
   },
   "file_extension": ".py",
   "mimetype": "text/x-python",
   "name": "python",
   "nbconvert_exporter": "python",
   "pygments_lexer": "ipython3",
   "version": "3.11.7"
  }
 },
 "nbformat": 4,
 "nbformat_minor": 5
}
