{
 "cells": [
  {
   "cell_type": "markdown",
   "id": "643ec8f6-d710-48e9-ae75-f294d0ff4150",
   "metadata": {},
   "source": [
    "# 27. Remove Element\n",
    "\n",
    "Given an integer array nums and an integer val, remove all occurrences of val in nums in-place. The order of the elements may be changed. Then return the number of elements in nums which are not equal to val.\n",
    "\n",
    "Consider the number of elements in nums which are not equal to val be k, to get accepted, you need to do the following things:\n",
    "\n",
    "Change the array nums such that the first k elements of nums contain the elements which are not equal to val. The remaining elements of nums are not important as well as the size of nums.\n",
    "Return k.\n",
    "Custom Judge:\n",
    "\n",
    "The judge will test your solution with the following code:\n",
    "\n",
    "int[] nums = [...]; // Input array\n",
    "int val = ...; // Value to remove\n",
    "int[] expectedNums = [...]; // The expected answer with correct length.\n",
    "                            // It is sorted with no values equaling val.\n",
    "\n",
    "int k = removeElement(nums, val); // Calls your implementation\n",
    "\n",
    "assert k == expectedNums.length;\n",
    "sort(nums, 0, k); // Sort the first k elements of nums\n",
    "for (int i = 0; i < actualLength; i++) {\n",
    "    assert nums[i] == expectedNums[i];\n",
    "}\n",
    "If all assertions pass, then your solution will be accepted.\n",
    "\n",
    " \n",
    "\n",
    "Example 1:\n",
    "\n",
    "Input: nums = [3,2,2,3], val = 3\n",
    "Output: 2, nums = [2,2,_,_]\n",
    "Explanation: Your function should return k = 2, with the first two elements of nums being 2.\n",
    "It does not matter what you leave beyond the returned k (hence they are underscores).\n",
    "\n",
    "Example 2:\n",
    "\n",
    "Input: nums = [0,1,2,2,3,0,4,2], val = 2\n",
    "Output: 5, nums = [0,1,4,0,3,_,_,_]\n",
    "Explanation: Your function should return k = 5, with the first five elements of nums containing 0, 0, 1, 3, and 4.\n",
    "Note that the five elements can be returned in any order.\n",
    "It does not matter what you leave beyond the returned k (hence they are underscores).\n",
    " \n",
    "\n",
    "Constraints:\n",
    "\n",
    "0 <= nums.length <= 100\n",
    "0 <= nums[i] <= 50\n",
    "0 <= val <= 100"
   ]
  },
  {
   "cell_type": "code",
   "execution_count": 18,
   "id": "1199b771-32cc-4bb8-b3f2-555efb663e51",
   "metadata": {},
   "outputs": [],
   "source": [
    "def removeElement(nums, val):\n",
    "    \"\"\"\n",
    "    Initial thought: iterate over each item in the list and compare to val. If it matches, then remove it.\n",
    "\n",
    "    However, this runs into the issue of removing elements from a list while iterating over it. \n",
    "    The indices of the elements change during iteration.\n",
    "    This means some elements can be skipped.\n",
    "    \"\"\"\n",
    "    # for every element in nums, compare to val\n",
    "    # if the element matches val, remove from nums\n",
    "    # As noted above, this will cause an issue (see the test case)\n",
    "\n",
    "    for c in nums:\n",
    "        if c == val:\n",
    "            nums.remove(val)\n",
    "    return nums, len(nums)"
   ]
  },
  {
   "cell_type": "code",
   "execution_count": 19,
   "id": "2a10e0a8-371c-4126-8505-58d3eea3fdba",
   "metadata": {},
   "outputs": [
    {
     "data": {
      "text/plain": [
       "([0, 1, 2, 2, 0, 4, 2, 3], 8)"
      ]
     },
     "execution_count": 19,
     "metadata": {},
     "output_type": "execute_result"
    }
   ],
   "source": [
    "# Test 1:\n",
    "\n",
    "nums = [0,1,2,2,3,3,3,0,4,2,3]\n",
    "val = 3\n",
    "\n",
    "# Expected output = 7 (we can see the last value is 3 which should be removed.\n",
    "removeElement(nums, val)"
   ]
  },
  {
   "cell_type": "code",
   "execution_count": 24,
   "id": "b988622c-7063-47fd-9bfa-cb3e6626cc23",
   "metadata": {},
   "outputs": [],
   "source": [
    "def removeElement(nums, val):\n",
    "    \"\"\"\n",
    "    Better way: \n",
    "    start with an index at 0\n",
    "    Loop through the elements in the range of nums\n",
    "    If the value at the index doesn't equal the val, set nums at the index = to the value at i\n",
    "    Increase the index by 1\n",
    "    Return the index which will be the length of the nums    \n",
    "    \"\"\"\n",
    "\n",
    "    index = 0\n",
    "    for x in nums:\n",
    "        if x != val:\n",
    "            nums[index] = x\n",
    "            index += 1\n",
    "    return index"
   ]
  },
  {
   "cell_type": "code",
   "execution_count": 25,
   "id": "8dd43cd0-3090-4881-beac-dfb9e6d9edca",
   "metadata": {},
   "outputs": [
    {
     "data": {
      "text/plain": [
       "7"
      ]
     },
     "execution_count": 25,
     "metadata": {},
     "output_type": "execute_result"
    }
   ],
   "source": [
    "# Test 1:\n",
    "\n",
    "nums = [0,1,2,2,3,3,3,0,4,2,3]\n",
    "val = 3\n",
    "\n",
    "# Expected output = 7\n",
    "removeElement(nums, val)"
   ]
  },
  {
   "cell_type": "code",
   "execution_count": 26,
   "id": "2c7195de-73c4-4039-9fdd-b58063c3f9ce",
   "metadata": {},
   "outputs": [
    {
     "data": {
      "text/plain": [
       "8"
      ]
     },
     "execution_count": 26,
     "metadata": {},
     "output_type": "execute_result"
    }
   ],
   "source": [
    "# Test 2:\n",
    "\n",
    "nums = [0,0,1,1,1,2,2,3,3,4]\n",
    "val = 0\n",
    "\n",
    "# Expected output = 8\n",
    "removeElement(nums, val)"
   ]
  }
 ],
 "metadata": {
  "kernelspec": {
   "display_name": "Python 3 (ipykernel)",
   "language": "python",
   "name": "python3"
  },
  "language_info": {
   "codemirror_mode": {
    "name": "ipython",
    "version": 3
   },
   "file_extension": ".py",
   "mimetype": "text/x-python",
   "name": "python",
   "nbconvert_exporter": "python",
   "pygments_lexer": "ipython3",
   "version": "3.11.7"
  }
 },
 "nbformat": 4,
 "nbformat_minor": 5
}
