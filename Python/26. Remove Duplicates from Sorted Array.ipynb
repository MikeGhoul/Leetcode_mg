{
 "cells": [
  {
   "cell_type": "markdown",
   "id": "643ec8f6-d710-48e9-ae75-f294d0ff4150",
   "metadata": {},
   "source": [
    "# 26. Remove Duplicates from Sorted Array\n",
    "\n",
    "Given an integer array nums sorted in non-decreasing order, remove the duplicates in-place such that each unique element appears only once. The relative order of the elements should be kept the same. Then return the number of unique elements in nums.\n",
    "\n",
    "Consider the number of unique elements of nums to be k, to get accepted, you need to do the following things:\n",
    "\n",
    "Change the array nums such that the first k elements of nums contain the unique elements in the order they were present in nums initially. The remaining elements of nums are not important as well as the size of nums.\n",
    "Return k.\n",
    "Custom Judge:\n",
    "\n",
    "The judge will test your solution with the following code:\n",
    "\n",
    "int[] nums = [...]; // Input array\n",
    "int[] expectedNums = [...]; // The expected answer with correct length\n",
    "\n",
    "int k = removeDuplicates(nums); // Calls your implementation\n",
    "\n",
    "assert k == expectedNums.length;\n",
    "for (int i = 0; i < k; i++) {\n",
    "    assert nums[i] == expectedNums[i];\n",
    "}\n",
    "If all assertions pass, then your solution will be accepted.\n",
    "\n",
    " \n",
    "\n",
    "Example 1:\n",
    "\n",
    "Input: nums = [1,1,2]\n",
    "Output: 2, nums = [1,2,_]\n",
    "Explanation: Your function should return k = 2, with the first two elements of nums being 1 and 2 respectively.\n",
    "It does not matter what you leave beyond the returned k (hence they are underscores).\n",
    "\n",
    "Example 2:\n",
    "Input: nums = [0,0,1,1,1,2,2,3,3,4]\n",
    "Output: 5, nums = [0,1,2,3,4,_,_,_,_,_]\n",
    "Explanation: Your function should return k = 5, with the first five elements of nums being 0, 1, 2, 3, and 4 respectively.\n",
    "It does not matter what you leave beyond the returned k (hence they are underscores).\n",
    " \n",
    "\n",
    "Constraints:\n",
    "\n",
    "1 <= nums.length <= 3 * 104\n",
    "-100 <= nums[i] <= 100\n",
    "nums is sorted in non-decreasing order."
   ]
  },
  {
   "cell_type": "code",
   "execution_count": 11,
   "id": "1199b771-32cc-4bb8-b3f2-555efb663e51",
   "metadata": {},
   "outputs": [],
   "source": [
    "def removeDuplicates(nums):\n",
    "    \"\"\"\n",
    "    Solution 1: Pop method\n",
    "    \"\"\"\n",
    "    # Set a starting point at index 1\n",
    "    # Since we want to compare to the previous index i -1, \n",
    "    # this will allow us to compare previous items in the list\n",
    "    i = 1\n",
    "    \n",
    "    # Keep the loop running as long as i is less than the length of the list\n",
    "    # Once i = len(nums), we've reached the last index and\n",
    "    # won't go out of range\n",
    "    while i < len(nums):\n",
    "    \n",
    "    # Check the item at index i with the previous item\n",
    "        if nums[i] == nums[i-1]:\n",
    "    \n",
    "    # If it's =, remove it\n",
    "            nums.pop(i)\n",
    "    \n",
    "    # If it's not =, increment i by 1\n",
    "        else:\n",
    "            i+=1\n",
    "    return len(nums)"
   ]
  },
  {
   "cell_type": "code",
   "execution_count": 12,
   "id": "2a10e0a8-371c-4126-8505-58d3eea3fdba",
   "metadata": {},
   "outputs": [
    {
     "data": {
      "text/plain": [
       "2"
      ]
     },
     "execution_count": 12,
     "metadata": {},
     "output_type": "execute_result"
    }
   ],
   "source": [
    "# Test 1:\n",
    "\n",
    "nums = [1,1,2]\n",
    "\n",
    "# Expected output = 2\n",
    "removeDuplicates(nums)"
   ]
  },
  {
   "cell_type": "code",
   "execution_count": 13,
   "id": "b988622c-7063-47fd-9bfa-cb3e6626cc23",
   "metadata": {},
   "outputs": [
    {
     "data": {
      "text/plain": [
       "5"
      ]
     },
     "execution_count": 13,
     "metadata": {},
     "output_type": "execute_result"
    }
   ],
   "source": [
    "# Test 2:\n",
    "\n",
    "nums = [0,0,1,1,1,2,2,3,3,4]\n",
    "\n",
    "# Expected output = 5\n",
    "removeDuplicates(nums)"
   ]
  },
  {
   "cell_type": "markdown",
   "id": "bfa37d9e-31fa-44b8-b767-576088cbbce1",
   "metadata": {},
   "source": [
    "Let's try another approach using a two-pointer method"
   ]
  },
  {
   "cell_type": "code",
   "execution_count": 10,
   "id": "8988b0a3-e377-4b49-8699-dd0af2cfe09a",
   "metadata": {},
   "outputs": [],
   "source": [
    "def removeDuplicates_2(nums):\n",
    "    \"\"\"\n",
    "    Two pointer solution\n",
    "    \n",
    "    \"\"\"\n",
    "    # start initial index at 1 since the value at 0 can't be a dupe\n",
    "    # value at 1 will be a dupe if it's the same as value at 0\n",
    "    j = 1\n",
    "\n",
    "    # loop through range starting at 1 for i\n",
    "    for i in range(1, len(nums)):\n",
    "    \n",
    "    # Check if nums at 1 index = nums at index  - 1\n",
    "    # If they don't, set the value at index j = to the value at i\n",
    "    # This overwrites the dupes and keeps the unique values\n",
    "    # increment j by 1   \n",
    "        if nums[i] != nums[i-1]:\n",
    "            nums[j] = nums[i]\n",
    "            j += 1\n",
    "            \n",
    "    return j"
   ]
  },
  {
   "cell_type": "code",
   "execution_count": 14,
   "id": "8dd43cd0-3090-4881-beac-dfb9e6d9edca",
   "metadata": {},
   "outputs": [
    {
     "data": {
      "text/plain": [
       "2"
      ]
     },
     "execution_count": 14,
     "metadata": {},
     "output_type": "execute_result"
    }
   ],
   "source": [
    "# Test 1:\n",
    "\n",
    "nums = [1,1,2]\n",
    "\n",
    "# Expected output = 2\n",
    "removeDuplicates_2(nums)"
   ]
  },
  {
   "cell_type": "code",
   "execution_count": 15,
   "id": "2c7195de-73c4-4039-9fdd-b58063c3f9ce",
   "metadata": {},
   "outputs": [
    {
     "data": {
      "text/plain": [
       "5"
      ]
     },
     "execution_count": 15,
     "metadata": {},
     "output_type": "execute_result"
    }
   ],
   "source": [
    "# Test 2:\n",
    "\n",
    "nums = [0,0,1,1,1,2,2,3,3,4]\n",
    "\n",
    "# Expected output = 5\n",
    "removeDuplicates_2(nums)"
   ]
  }
 ],
 "metadata": {
  "kernelspec": {
   "display_name": "Python 3 (ipykernel)",
   "language": "python",
   "name": "python3"
  },
  "language_info": {
   "codemirror_mode": {
    "name": "ipython",
    "version": 3
   },
   "file_extension": ".py",
   "mimetype": "text/x-python",
   "name": "python",
   "nbconvert_exporter": "python",
   "pygments_lexer": "ipython3",
   "version": "3.11.7"
  }
 },
 "nbformat": 4,
 "nbformat_minor": 5
}
