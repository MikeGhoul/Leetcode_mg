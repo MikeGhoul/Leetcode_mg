{
 "cells": [
  {
   "cell_type": "markdown",
   "id": "643ec8f6-d710-48e9-ae75-f294d0ff4150",
   "metadata": {},
   "source": [
    "# 4. Median of Two Sorted Arrays\n",
    "\n",
    "(Hard)\n",
    "\n",
    "Given two sorted arrays nums1 and nums2 of size m and n respectively, return the median of the two sorted arrays.\n",
    "\n",
    "The overall run time complexity should be O(log (m+n)).\n",
    "\n",
    " \n",
    "\n",
    "Example 1:\n",
    "\n",
    "Input: nums1 = [1,3], nums2 = [2]\n",
    "Output: 2.00000\n",
    "Explanation: merged array = [1,2,3] and median is 2.\n",
    "Example 2:\n",
    "\n",
    "Input: nums1 = [1,2], nums2 = [3,4]\n",
    "Output: 2.50000\n",
    "Explanation: merged array = [1,2,3,4] and median is (2 + 3) / 2 = 2.5.\n",
    " \n",
    "\n",
    "Constraints:\n",
    "\n",
    "nums1.length == m\n",
    "nums2.length == n\n",
    "0 <= m <= 1000\n",
    "0 <= n <= 1000\n",
    "1 <= m + n <= 2000\n",
    "-106 <= nums1[i], nums2[i] <= 106"
   ]
  },
  {
   "cell_type": "markdown",
   "id": "c0fac324-e782-4739-99e9-87b1a0451163",
   "metadata": {},
   "source": [
    "### Brute Force Method:"
   ]
  },
  {
   "cell_type": "code",
   "execution_count": 135,
   "id": "1199b771-32cc-4bb8-b3f2-555efb663e51",
   "metadata": {},
   "outputs": [],
   "source": [
    "def findMedianSortedArrays(nums1, nums2):\n",
    "    # Merge the lists:\n",
    "    result = nums1 + nums2\n",
    "\n",
    "    # Sort the list in ascending order (without using sort function):\n",
    "    for i in range(0, len(result)):\n",
    "        for j in range(i+1, len(result)):\n",
    "            if result[i] > result[j]:\n",
    "                result[i], result[j] = result[j], result[i]\n",
    "\n",
    "\n",
    "    # Calc the length of the merged list:\n",
    "    total_len = len(result)\n",
    "    \n",
    "    # If odd: \n",
    "    if total_len % 2 != 0:\n",
    "        ret_ind = int((total_len) / 2)\n",
    "        return result[ret_ind]\n",
    "    \n",
    "    # If even:\n",
    "    else:\n",
    "        ret_ind_1 = int(total_len / 2) - 1\n",
    "        ret_ind_2 = int(total_len / 2)\n",
    "        return (result[ret_ind_1] + result[ret_ind_2]) / 2    "
   ]
  },
  {
   "cell_type": "code",
   "execution_count": 141,
   "id": "2a10e0a8-371c-4126-8505-58d3eea3fdba",
   "metadata": {},
   "outputs": [
    {
     "data": {
      "text/plain": [
       "2"
      ]
     },
     "execution_count": 141,
     "metadata": {},
     "output_type": "execute_result"
    }
   ],
   "source": [
    "# Test 1:\n",
    "\n",
    "nums1 = [1, 3]\n",
    "nums2 = [2]\n",
    "findMedianSortedArrays(nums1, nums2)\n",
    "\n",
    "# Explanation: merged array = [1,2,3] and median is 2."
   ]
  },
  {
   "cell_type": "code",
   "execution_count": 142,
   "id": "33d2e3f2-1c2d-4945-9bc0-88026c2c6d89",
   "metadata": {},
   "outputs": [
    {
     "data": {
      "text/plain": [
       "2.5"
      ]
     },
     "execution_count": 142,
     "metadata": {},
     "output_type": "execute_result"
    }
   ],
   "source": [
    "# Test 2:\n",
    "\n",
    "nums1 = [1, 2]\n",
    "nums2 = [3, 4]\n",
    "findMedianSortedArrays(nums1, nums2)\n",
    "\n",
    "# Explanation: merged array = [1,2,3,4] and median is (2 + 3) / 2 = 2.5."
   ]
  },
  {
   "cell_type": "markdown",
   "id": "a9221e87-ffc9-4f2d-80f6-44b0c421c8e7",
   "metadata": {},
   "source": [
    "### Two-Pointer Method:"
   ]
  },
  {
   "cell_type": "code",
   "execution_count": null,
   "id": "937c70a3-1609-46c1-8156-d91ec8af1ba0",
   "metadata": {},
   "outputs": [],
   "source": [
    "# Come back to this and break down code explanation line by line"
   ]
  }
 ],
 "metadata": {
  "kernelspec": {
   "display_name": "Python 3 (ipykernel)",
   "language": "python",
   "name": "python3"
  },
  "language_info": {
   "codemirror_mode": {
    "name": "ipython",
    "version": 3
   },
   "file_extension": ".py",
   "mimetype": "text/x-python",
   "name": "python",
   "nbconvert_exporter": "python",
   "pygments_lexer": "ipython3",
   "version": "3.11.7"
  }
 },
 "nbformat": 4,
 "nbformat_minor": 5
}
