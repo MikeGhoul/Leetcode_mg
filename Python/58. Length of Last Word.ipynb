{
 "cells": [
  {
   "cell_type": "markdown",
   "id": "643ec8f6-d710-48e9-ae75-f294d0ff4150",
   "metadata": {},
   "source": [
    "# 58. Length of Last Word\n",
    "\n",
    "Given a string s consisting of words and spaces, return the length of the last word in the string.\n",
    "\n",
    "A word is a maximal \n",
    "substring\n",
    " consisting of non-space characters only.\n",
    "\n",
    " \n",
    "\n",
    "Example 1:\n",
    "\n",
    "Input: s = \"Hello World\"\n",
    "Output: 5\n",
    "Explanation: The last word is \"World\" with length 5.\n",
    "Example 2:\n",
    "\n",
    "Input: s = \"   fly me   to   the moon  \"\n",
    "Output: 4\n",
    "Explanation: The last word is \"moon\" with length 4.\n",
    "Example 3:\n",
    "\n",
    "Input: s = \"luffy is still joyboy\"\n",
    "Output: 6\n",
    "Explanation: The last word is \"joyboy\" with length 6.\n",
    " \n",
    "\n",
    "Constraints:\n",
    "\n",
    "1 <= s.length <= 104\n",
    "s consists of only English letters and spaces ' '.\n",
    "There will be at least one word in s."
   ]
  },
  {
   "cell_type": "code",
   "execution_count": 2,
   "id": "1199b771-32cc-4bb8-b3f2-555efb663e51",
   "metadata": {},
   "outputs": [],
   "source": [
    "def lengthOfLastWord(s):\n",
    "    return len(s.split()[-1])"
   ]
  },
  {
   "cell_type": "code",
   "execution_count": 4,
   "id": "2a10e0a8-371c-4126-8505-58d3eea3fdba",
   "metadata": {},
   "outputs": [
    {
     "data": {
      "text/plain": [
       "5"
      ]
     },
     "execution_count": 4,
     "metadata": {},
     "output_type": "execute_result"
    }
   ],
   "source": [
    "# Test 1:\n",
    "\n",
    "s = \"Hello World\"\n",
    "lengthOfLastWord(s)\n",
    "# Output: 5\n",
    "# Explanation: The last word is \"World\" with length 5."
   ]
  },
  {
   "cell_type": "code",
   "execution_count": 5,
   "id": "b988622c-7063-47fd-9bfa-cb3e6626cc23",
   "metadata": {},
   "outputs": [
    {
     "data": {
      "text/plain": [
       "4"
      ]
     },
     "execution_count": 5,
     "metadata": {},
     "output_type": "execute_result"
    }
   ],
   "source": [
    "# Test 2:\n",
    "\n",
    "s = \"   fly me   to   the moon  \"\n",
    "lengthOfLastWord(s)\n",
    "# Output: 4\n",
    "# Explanation: The last word is \"moon\" with length 4."
   ]
  },
  {
   "cell_type": "code",
   "execution_count": 6,
   "id": "2d0f14a2-8b6a-4bfc-8366-8a8116fa29cb",
   "metadata": {},
   "outputs": [
    {
     "data": {
      "text/plain": [
       "6"
      ]
     },
     "execution_count": 6,
     "metadata": {},
     "output_type": "execute_result"
    }
   ],
   "source": [
    "# Test 1:\n",
    "\n",
    "s = \"luffy is still joyboy\"\n",
    "lengthOfLastWord(s)\n",
    "# Output: 6\n",
    "# Explanation: The last word is \"joyboy\" with length 6."
   ]
  },
  {
   "cell_type": "code",
   "execution_count": null,
   "id": "4b537411-b798-4b56-8ed6-307b44f88ef9",
   "metadata": {},
   "outputs": [],
   "source": []
  }
 ],
 "metadata": {
  "kernelspec": {
   "display_name": "Python 3 (ipykernel)",
   "language": "python",
   "name": "python3"
  },
  "language_info": {
   "codemirror_mode": {
    "name": "ipython",
    "version": 3
   },
   "file_extension": ".py",
   "mimetype": "text/x-python",
   "name": "python",
   "nbconvert_exporter": "python",
   "pygments_lexer": "ipython3",
   "version": "3.11.7"
  }
 },
 "nbformat": 4,
 "nbformat_minor": 5
}
